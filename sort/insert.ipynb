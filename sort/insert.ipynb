{
 "cells": [
  {
   "cell_type": "markdown",
   "metadata": {},
   "source": [
    "## Invertion sort\n",
    "\n",
    "pseudocode  \n",
    "for j=2 to A.length  \n",
    "  key = A[j]   \n",
    "  i=j-1   \n",
    "  while i>0 and A[i]>key   \n",
    "    A[i+1]=A[i]  \n",
    "    i=i-1  \n",
    "  A[i+1]=key  \n",
    "  \n",
    "  \n",
    "Explain:  \n",
    "here we assume that A[0:j-1] are well sorted what we now do is to decide where to put A[j] this key to the array.  \n",
    "When A[i] is larger than key, A[i+1]=A[i] is to put afterward one step.  \n",
    "After the while loop, A[i+1]=A[i+2]>=A[i+3]...  \n",
    "The key value is stored in A[i+1] position."
   ]
  },
  {
   "cell_type": "markdown",
   "metadata": {},
   "source": [
    "#### Problem 1\n",
    "do a invsertion-sort on the array A  \n",
    "with an increasing order"
   ]
  },
  {
   "cell_type": "code",
   "execution_count": 3,
   "metadata": {},
   "outputs": [
    {
     "data": {
      "text/plain": [
       "[26, 31, 41, 41, 58, 59]"
      ]
     },
     "execution_count": 3,
     "metadata": {},
     "output_type": "execute_result"
    }
   ],
   "source": [
    "# increasing order\n",
    "A=[31,41,59,26,41,58]\n",
    "for j in range(1,len(A)):\n",
    "    key = A[j]\n",
    "    i=j-1\n",
    "    while i>=0 and A[i]>key:\n",
    "        A[i+1]=A[i] # move backward\n",
    "        i = i-1\n",
    "    A[i+1]=key\n",
    "A\n",
    "\n"
   ]
  },
  {
   "cell_type": "markdown",
   "metadata": {},
   "source": [
    "#### Problem 2\n",
    "with a decreasing order"
   ]
  },
  {
   "cell_type": "code",
   "execution_count": 4,
   "metadata": {},
   "outputs": [
    {
     "data": {
      "text/plain": [
       "[59, 58, 41, 41, 31, 26]"
      ]
     },
     "execution_count": 4,
     "metadata": {},
     "output_type": "execute_result"
    }
   ],
   "source": [
    "# decreasing order\n",
    "A=[31,41,59,26,41,58]\n",
    "for j in range(1,len(A)):\n",
    "    key = A[j]\n",
    "    i=j-1\n",
    "    while i>=0 and A[i]<key:\n",
    "        A[i+1]=A[i] # move backward\n",
    "        i = i-1\n",
    "    A[i+1]=key\n",
    "A\n"
   ]
  },
  {
   "cell_type": "markdown",
   "metadata": {},
   "source": [
    "#### Problem 3 ( searching problem )\n",
    "Input: A sequence of n numbers A=[a1,...an] and a value v  \n",
    "Output: An index i such that v=A[i] or the special value NIL if v does not apper in A.  \n",
    "Write pseudocode for linear search, which scans through the sequence, looking for v. Using a loop invariant, prove that ypur algorithm is correct. Make sure that your loop invariant fullfill the three necessart properties."
   ]
  },
  {
   "cell_type": "code",
   "execution_count": 12,
   "metadata": {},
   "outputs": [
    {
     "name": "stdout",
     "output_type": "stream",
     "text": [
      "[26, 31, 41, 41, 58, 59]\n",
      "FIN\n"
     ]
    }
   ],
   "source": [
    "# linear search\n",
    "A=[31,41,59,26,41,58]\n",
    "v = 10\n",
    "for j in range(1,len(A)):\n",
    "    key=A[j]\n",
    "    i=j-1\n",
    "    while i>=0 and A[i]>key:\n",
    "        A[i+1]=A[i]\n",
    "        i=i-1\n",
    "    A[i+1]=key\n",
    "print(A)\n",
    "flg = 0\n",
    "for i in range(0,len(A)):\n",
    "    \n",
    "    if v==A[i]:\n",
    "        break\n",
    "    else:\n",
    "        if v < A[i]:\n",
    "            flg=1\n",
    "            break\n",
    "            \n",
    "if flg ==1: print('FIN')\n",
    "else: print(i+1)\n",
    "        \n",
    "    \n",
    "    \n",
    "    \n",
    "    "
   ]
  },
  {
   "cell_type": "markdown",
   "metadata": {},
   "source": [
    "#### problem 4 adding 2 n-bit binary integers A and B to C"
   ]
  },
  {
   "cell_type": "code",
   "execution_count": 16,
   "metadata": {},
   "outputs": [
    {
     "data": {
      "text/plain": [
       "[1, 0, 1, 0, 1, 0]"
      ]
     },
     "execution_count": 16,
     "metadata": {},
     "output_type": "execute_result"
    }
   ],
   "source": [
    "A=[0,1,1,0,0]\n",
    "B=[1,1,1,1,0]\n",
    "n = len(A)\n",
    "i=n-1\n",
    "C= []\n",
    "k=0\n",
    "while i>=0:\n",
    "    n = A[i]+B[i]+k\n",
    "    if n>= 2:\n",
    "        C.insert(0,n-2)\n",
    "        k=1\n",
    "    else:\n",
    "        C.insert(0,n)\n",
    "        k=0\n",
    "    i = i-1\n",
    "\n",
    "C.insert(0,k) \n",
    "C"
   ]
  },
  {
   "cell_type": "code",
   "execution_count": null,
   "metadata": {},
   "outputs": [],
   "source": []
  }
 ],
 "metadata": {
  "kernelspec": {
   "display_name": "Python 3",
   "language": "python",
   "name": "python3"
  },
  "language_info": {
   "codemirror_mode": {
    "name": "ipython",
    "version": 3
   },
   "file_extension": ".py",
   "mimetype": "text/x-python",
   "name": "python",
   "nbconvert_exporter": "python",
   "pygments_lexer": "ipython3",
   "version": "3.6.4"
  }
 },
 "nbformat": 4,
 "nbformat_minor": 2
}
